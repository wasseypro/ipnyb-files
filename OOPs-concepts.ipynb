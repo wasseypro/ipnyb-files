{
 "cells": [
  {
   "cell_type": "code",
   "execution_count": 3,
   "metadata": {},
   "outputs": [
    {
     "name": "stdout",
     "output_type": "stream",
     "text": [
      "{'name': 'harshit', 'age': 22, 'salary': 1234, 'id': 1000}\n",
      "{'name': 'arjun', 'age': 23, 'salary': 2234, 'id': 2000}\n"
     ]
    }
   ],
   "source": [
    "class employee():\n",
    "    def __init__(self,name,age,id,salary):   \n",
    "        self.name = name \n",
    "        self.age = age\n",
    "        self.salary = salary\n",
    "        self.id = id\n",
    " \n",
    "emp1 = employee(\"harshit\",22,1000,1234)\n",
    "emp2 = employee(\"arjun\",23,2000,2234)\n",
    "print(emp1.__dict__)\n",
    "print(emp2.__dict__)"
   ]
  },
  {
   "cell_type": "code",
   "execution_count": 6,
   "metadata": {},
   "outputs": [
    {
     "name": "stdout",
     "output_type": "stream",
     "text": [
      "Blu is a bird\n",
      "Woo is also a bird\n",
      "Blu is 10 years old\n",
      "Woo is 15 years old\n",
      "bird\n",
      "bird\n"
     ]
    }
   ],
   "source": [
    "class Parrot:\n",
    "\n",
    "    # class attribute\n",
    "    species = \"bird\"\n",
    "\n",
    "    # instance attribute\n",
    "    def __init__(self, name, age):\n",
    "        self.name = name\n",
    "        self.age = age\n",
    "\n",
    "# instantiate the Parrot class\n",
    "blu = Parrot(\"Blu\", 10)\n",
    "woo = Parrot(\"Woo\", 15)\n",
    "\n",
    "# access the class attributes\n",
    "print(\"Blu is a {}\".format(blu.__class__.species))\n",
    "print(\"Woo is also a {}\".format(woo.__class__.species))\n",
    "\n",
    "# access the instance attributes\n",
    "print(\"{} is {} years old\".format( blu.name, blu.age))\n",
    "print(\"{} is {} years old\".format( woo.name, woo.age))\n",
    "\n",
    "print(blu.__class__.species)\n",
    "print(woo.__class__.species)"
   ]
  },
  {
   "cell_type": "code",
   "execution_count": 18,
   "metadata": {},
   "outputs": [
    {
     "name": "stdout",
     "output_type": "stream",
     "text": [
      "Hello, my name is Nikhil\n",
      "Hello, my name is aikhil\n"
     ]
    }
   ],
   "source": [
    "# A Sample class with init method   \n",
    "class Person:   \n",
    "      \n",
    "    # init method or constructor    \n",
    "    def __init__(self, name):   \n",
    "        self.name = name   \n",
    "      \n",
    "    # Sample Method    \n",
    "    def say_hi(self):   \n",
    "        print('Hello, my name is', self.name)   \n",
    "      \n",
    "p1 = Person('Nikhil')   \n",
    "p2 = Person('aikhil')\n",
    "p1.say_hi() \n",
    "p2.say_hi()"
   ]
  },
  {
   "cell_type": "code",
   "execution_count": 29,
   "metadata": {},
   "outputs": [
    {
     "name": "stdout",
     "output_type": "stream",
     "text": [
      "harshit\n",
      "434\n"
     ]
    }
   ],
   "source": [
    "class employee1():\n",
    "    def __init__(self, name, age, salary):  \n",
    "        self.name = name\n",
    "        self.age = age\n",
    "        self.salary = salary\n",
    " \n",
    "class childemployee(employee1):\n",
    "    def __init__(self, name, age, salary,id):\n",
    "        self.name = name\n",
    "        self.age = age\n",
    "        self.salary = salary\n",
    "        self.id = id\n",
    "emp1 = employee1('harshit',22,1000)\n",
    "emp2 = childemployee('krich',33,500,434)\n",
    " \n",
    "print(emp1.name)\n",
    "print(emp2.id)"
   ]
  },
  {
   "cell_type": "code",
   "execution_count": 30,
   "metadata": {},
   "outputs": [
    {
     "name": "stdout",
     "output_type": "stream",
     "text": [
      "Mark\n",
      "John\n"
     ]
    }
   ],
   "source": [
    "# Parent class created\n",
    "class Parent:\n",
    "    parentname = \"\"\n",
    "    childname = \"\"\n",
    " \n",
    "    def show_parent(self):\n",
    "        print(self.parentname)\n",
    " \n",
    " \n",
    "# Child class created inherits Parent class\n",
    "class Child(Parent):\n",
    "    def show_child(self):\n",
    "        print(self.childname)\n",
    " \n",
    " \n",
    "ch1 = Child()  # Object of Child class\n",
    "ch1.parentname = \"Mark\"   # Access Parent class attributes\n",
    "ch1.childname = \"John\"\n",
    "ch1.show_parent()   # Access Parent class method\n",
    "ch1.show_child()    # Access Child class method"
   ]
  },
  {
   "cell_type": "code",
   "execution_count": 31,
   "metadata": {},
   "outputs": [
    {
     "name": "stdout",
     "output_type": "stream",
     "text": [
      "This is our family:\n",
      "Father : Mark\n",
      "Mother : Sonia\n"
     ]
    }
   ],
   "source": [
    "class Family:\n",
    "    def show_family(self):\n",
    "        print(\"This is our family:\")\n",
    " \n",
    " \n",
    "# Father class inherited from Family\n",
    "class Father(Family):\n",
    "    fathername = \"\"\n",
    " \n",
    "    def show_father(self):\n",
    "        print(self.fathername)\n",
    " \n",
    " \n",
    "# Mother class inherited from Family\n",
    "class Mother(Family):\n",
    "    mothername = \"\"\n",
    " \n",
    "    def show_mother(self):\n",
    "        print(self.mothername)\n",
    " \n",
    " \n",
    "# Son class inherited from Father and Mother classes\n",
    "class Son(Father, Mother):\n",
    "    def show_parent(self):\n",
    "        print(\"Father :\", self.fathername)\n",
    "        print(\"Mother :\", self.mothername)\n",
    " \n",
    " \n",
    "s1 = Son()  # Object of Son class\n",
    "s1.fathername = \"Mark\"\n",
    "s1.mothername = \"Sonia\"\n",
    "s1.show_family()\n",
    "s1.show_parent()\n",
    " "
   ]
  },
  {
   "cell_type": "code",
   "execution_count": 32,
   "metadata": {},
   "outputs": [
    {
     "name": "stdout",
     "output_type": "stream",
     "text": [
      "Mark\n",
      "36\n"
     ]
    }
   ],
   "source": [
    "class Family:\n",
    "    # Parent class constructor\n",
    "    def __init__(self, name):\n",
    "        self.name = name\n",
    " \n",
    " \n",
    "# Father class inherited from Family\n",
    "class Father(Family):\n",
    "    # Child class constructor\n",
    "    def __init__(self, name, age):\n",
    "        #  Parent class constructor called from child class\n",
    "        Family.__init__(self, name)\n",
    "        self.age = age\n",
    " \n",
    " \n",
    "f = Father(\"Mark\", 36)\n",
    "print(f.name)\n",
    "print(f.age)"
   ]
  },
  {
   "cell_type": "code",
   "execution_count": 25,
   "metadata": {},
   "outputs": [
    {
     "name": "stdout",
     "output_type": "stream",
     "text": [
      "1234\n",
      "1234\n"
     ]
    },
    {
     "ename": "AttributeError",
     "evalue": "'employee' object has no attribute '____salary'",
     "output_type": "error",
     "traceback": [
      "\u001b[1;31m---------------------------------------------------------------------------\u001b[0m",
      "\u001b[1;31mAttributeError\u001b[0m                            Traceback (most recent call last)",
      "\u001b[1;32m<ipython-input-25-de6732fa4e8f>\u001b[0m in \u001b[0;36m<module>\u001b[1;34m\u001b[0m\n\u001b[0;32m      8\u001b[0m \u001b[0mprint\u001b[0m\u001b[1;33m(\u001b[0m\u001b[0mobject1\u001b[0m\u001b[1;33m.\u001b[0m\u001b[0mname\u001b[0m\u001b[1;33m)\u001b[0m\u001b[1;33m\u001b[0m\u001b[1;33m\u001b[0m\u001b[0m\n\u001b[0;32m      9\u001b[0m \u001b[0mprint\u001b[0m\u001b[1;33m(\u001b[0m\u001b[0mobject1\u001b[0m\u001b[1;33m.\u001b[0m\u001b[0m_age\u001b[0m\u001b[1;33m)\u001b[0m\u001b[1;33m\u001b[0m\u001b[1;33m\u001b[0m\u001b[0m\n\u001b[1;32m---> 10\u001b[1;33m \u001b[0mprint\u001b[0m\u001b[1;33m(\u001b[0m\u001b[0mobject1\u001b[0m\u001b[1;33m.\u001b[0m\u001b[0m____salary\u001b[0m\u001b[1;33m)\u001b[0m\u001b[1;33m\u001b[0m\u001b[1;33m\u001b[0m\u001b[0m\n\u001b[0m",
      "\u001b[1;31mAttributeError\u001b[0m: 'employee' object has no attribute '____salary'"
     ]
    }
   ],
   "source": [
    "class employee(object):\n",
    "    def __init__(self):   \n",
    "        self.name = 1234\n",
    "        self._age = 1234\n",
    "        self.__salary = 1234\n",
    " \n",
    "object1 = employee()\n",
    "print(object1.name)\n",
    "print(object1._age)\n",
    "print(object1.__salary)"
   ]
  },
  {
   "cell_type": "code",
   "execution_count": 6,
   "metadata": {},
   "outputs": [
    {
     "name": "stdout",
     "output_type": "stream",
     "text": [
      "earning is:1000000\n",
      "earning is:1000000\n",
      "earning is:10000\n"
     ]
    }
   ],
   "source": [
    "class employee():\n",
    "    def __init__(self):\n",
    "        self.__maxearn = 1000000\n",
    "    def earn(self):\n",
    "        print(\"earning is:{}\".format(self.__maxearn))\n",
    " \n",
    "    def setmaxearn(self,earn): #setter method used for accesing private class\n",
    "        self.__maxearn = earn\n",
    " \n",
    "emp1 = employee()\n",
    "emp1.earn()\n",
    " \n",
    "emp1.__maxearn = 10000\n",
    "emp1.earn()\n",
    " \n",
    "emp1.setmaxearn(10000)\n",
    "emp1.earn()"
   ]
  },
  {
   "cell_type": "code",
   "execution_count": 17,
   "metadata": {},
   "outputs": [
    {
     "name": "stdout",
     "output_type": "stream",
     "text": [
      "earning is:1000000\n",
      "earning is:1000000\n",
      "earning is:10000\n"
     ]
    }
   ],
   "source": [
    "class employee():\n",
    "    def __init__(self):\n",
    "        self.__maxearn = 1000000\n",
    "    def earn(self):\n",
    "        print(\"earning is:{}\".format(self.__maxearn))\n",
    "    def setmaxearn(self,earn):\n",
    "        self.__maxearn = earn\n",
    "emp1 = employee()\n",
    "emp1.earn()\n",
    " \n",
    "emp1.__maxearn = 20000\n",
    "emp1.earn()\n",
    " \n",
    "emp1.setmaxearn(10000)\n",
    "emp1.earn()\n",
    " "
   ]
  },
  {
   "cell_type": "code",
   "execution_count": 22,
   "metadata": {},
   "outputs": [
    {
     "name": "stdout",
     "output_type": "stream",
     "text": [
      "Calling protected member of base class: \n",
      "2\n",
      "2\n",
      "2\n"
     ]
    }
   ],
   "source": [
    "# Python program to\n",
    "# demonstrate protected members\n",
    " \n",
    " \n",
    "# Creating a base class\n",
    "class Base:\n",
    "    def __init__(self):\n",
    "         \n",
    "        # Protected member\n",
    "        self._a = 2\n",
    " \n",
    "# Creating a derived class    \n",
    "class Derived(Base):\n",
    "    def __init__(self):\n",
    "         \n",
    "        # Calling constructor of\n",
    "        # Base class\n",
    "        Base.__init__(self) \n",
    "        print(\"Calling protected member of base class: \")\n",
    "        print(self._a)\n",
    " \n",
    "obj1 = Derived()\n",
    "         \n",
    "obj2 = Base()\n",
    " \n",
    "# Calling protected member\n",
    "# Outside class will  result in \n",
    "# AttributeError\n",
    "print(obj1._a)\n",
    "print(obj2._a)"
   ]
  },
  {
   "cell_type": "code",
   "execution_count": 27,
   "metadata": {},
   "outputs": [
    {
     "name": "stdout",
     "output_type": "stream",
     "text": [
      "emp_id is 12345\n"
     ]
    }
   ],
   "source": [
    "from abc import ABC,abstractmethod\n",
    "class employee(ABC):\n",
    "    def emp_id(self,id,name,age,salary):    #Abstraction\n",
    "        pass\n",
    " \n",
    "class childemployee1(employee):\n",
    "    def emp_id(self,id):\n",
    "        print(\"emp_id is 12345\")\n",
    " \n",
    "emp1 = childemployee1()\n",
    "emp1.emp_id(id)"
   ]
  },
  {
   "cell_type": "code",
   "execution_count": 49,
   "metadata": {},
   "outputs": [
    {
     "ename": "IndentationError",
     "evalue": "unindent does not match any outer indentation level (<tokenize>, line 9)",
     "output_type": "error",
     "traceback": [
      "\u001b[1;36m  File \u001b[1;32m\"<tokenize>\"\u001b[1;36m, line \u001b[1;32m9\u001b[0m\n\u001b[1;33m    return self.length * self.breadth\u001b[0m\n\u001b[1;37m    ^\u001b[0m\n\u001b[1;31mIndentationError\u001b[0m\u001b[1;31m:\u001b[0m unindent does not match any outer indentation level\n"
     ]
    }
   ],
   "source": [
    "from abc import ABC\n",
    "class Shape(ABC): #abstract class\n",
    "    def calculate_area(self): #abstract methodpass\n",
    "\n",
    "        class Rectangle(Shape):\n",
    "              length = 5\n",
    "                  breadth = 3\n",
    "                    def calculate_area(self):\n",
    "                return self.length * self.breadth\n",
    "\n",
    "        class Circle(Shape):\n",
    "              radius = 4\n",
    "            def calculate_area(self):\n",
    "                return 3.14 * self.radius * self.radius\n",
    "\n",
    "rec = Rectangle() #object created for the class 'Rectangle'\n",
    "cir = Circle() #object created for the class 'Circle'\n",
    "print(\"Area of a rectangle:\", rec.calculate_area()) #call to 'calculate_area' method defined inside the class 'Rectangle'\n",
    "print(\"Area of a circle:\", cir.calculate_area()) #call to 'calculate_area' method defined inside the class 'Circle'."
   ]
  },
  {
   "cell_type": "code",
   "execution_count": null,
   "metadata": {},
   "outputs": [],
   "source": []
  }
 ],
 "metadata": {
  "kernelspec": {
   "display_name": "Python 3",
   "language": "python",
   "name": "python3"
  },
  "language_info": {
   "codemirror_mode": {
    "name": "ipython",
    "version": 3
   },
   "file_extension": ".py",
   "mimetype": "text/x-python",
   "name": "python",
   "nbconvert_exporter": "python",
   "pygments_lexer": "ipython3",
   "version": "3.8.3"
  }
 },
 "nbformat": 4,
 "nbformat_minor": 4
}
