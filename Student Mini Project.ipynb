{
 "cells": [
  {
   "cell_type": "code",
   "execution_count": 8,
   "metadata": {},
   "outputs": [
    {
     "name": "stdout",
     "output_type": "stream",
     "text": [
      "Enter no of student:4\n",
      "Enter student name:Mak\n",
      "Enter student marks:55\n",
      "Hi: Mak\n",
      "Your Marks are: 55\n",
      "Second Grade\n",
      "********************\n",
      "Enter student name:Zak\n",
      "Enter student marks:33\n",
      "Hi: Zak\n",
      "Your Marks are: 33\n",
      "You are failed\n",
      "********************\n",
      "Enter student name:Hak\n",
      "Enter student marks:65\n",
      "Hi: Hak\n",
      "Your Marks are: 65\n",
      "First Grade\n",
      "********************\n",
      "Enter student name:tak\n",
      "Enter student marks:36\n",
      "Hi: tak\n",
      "Your Marks are: 36\n",
      "You got Third Grade\n",
      "********************\n"
     ]
    }
   ],
   "source": [
    "class Student:\n",
    "    def __init__(self,name,marks):\n",
    "        self.name=name\n",
    "        self.marks=marks\n",
    "    def display(self):\n",
    "        print('Hi:',self.name)\n",
    "        print('Your Marks are:',self.marks)\n",
    "    def grade(self):\n",
    "        if self.marks>=60:\n",
    "            print('First Grade')\n",
    "        elif self.marks>=50:\n",
    "            print('Second Grade')\n",
    "        elif self.marks>=35:\n",
    "            print('You got Third Grade')\n",
    "        else:\n",
    "            print('You are failed')\n",
    "n = int(input('Enter no of student:'))\n",
    "for i in range(n):\n",
    "    name=input('Enter student name:')\n",
    "    marks=int(input('Enter student marks:'))\n",
    "    s=Student(name,marks)\n",
    "    s.display()\n",
    "    s.grade()\n",
    "    print('*'*20)"
   ]
  },
  {
   "cell_type": "code",
   "execution_count": null,
   "metadata": {},
   "outputs": [],
   "source": []
  }
 ],
 "metadata": {
  "kernelspec": {
   "display_name": "Python 3",
   "language": "python",
   "name": "python3"
  },
  "language_info": {
   "codemirror_mode": {
    "name": "ipython",
    "version": 3
   },
   "file_extension": ".py",
   "mimetype": "text/x-python",
   "name": "python",
   "nbconvert_exporter": "python",
   "pygments_lexer": "ipython3",
   "version": "3.8.3"
  }
 },
 "nbformat": 4,
 "nbformat_minor": 4
}
