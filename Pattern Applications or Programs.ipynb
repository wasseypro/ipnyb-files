{
 "cells": [
  {
   "cell_type": "code",
   "execution_count": 2,
   "metadata": {},
   "outputs": [
    {
     "name": "stdout",
     "output_type": "stream",
     "text": [
      "Enter n value:3\n",
      "*\n",
      "*\n",
      "*\n"
     ]
    }
   ],
   "source": [
    "# Can you print star pattern 'n' no of times in same row with space separator\n",
    "\n",
    "n = int(input('Enter n value:'))\n",
    "\n",
    "for i in range (n): \n",
    "    \n",
    "# range n means if we enter 3 it will take 0,1,2\n",
    "    print('*')\n",
    "# How many times it will be printed? as we have taken for loop it will be executed n no of times"
   ]
  },
  {
   "cell_type": "code",
   "execution_count": 5,
   "metadata": {},
   "outputs": [
    {
     "name": "stdout",
     "output_type": "stream",
     "text": [
      "Enter n value:3\n",
      "* * * "
     ]
    }
   ],
   "source": [
    "# Above answer is wrong as per our question it is not in same row\n",
    "n = int(input('Enter n value:'))\n",
    "\n",
    "for i in range (n): \n",
    "    print('*',end=' ')"
   ]
  },
  {
   "cell_type": "code",
   "execution_count": 7,
   "metadata": {},
   "outputs": [
    {
     "name": "stdout",
     "output_type": "stream",
     "text": [
      "Enter no of rows:4\n",
      "* * * * \n",
      "* * * * \n",
      "* * * * \n",
      "* * * * \n"
     ]
    }
   ],
   "source": [
    "#To print square pattern with * symbols\n",
    "n = int(input('Enter no of rows:'))\n",
    "for i in range (n):\n",
    "    print('* '*n)"
   ]
  },
  {
   "cell_type": "code",
   "execution_count": 16,
   "metadata": {},
   "outputs": [
    {
     "name": "stdout",
     "output_type": "stream",
     "text": [
      "Enter no of rows:5\n",
      "5 5 5 5 5 \n",
      "5 5 5 5 5 \n",
      "5 5 5 5 5 \n",
      "5 5 5 5 5 \n",
      "5 5 5 5 5 \n"
     ]
    }
   ],
   "source": [
    "# To print square pattern with provided fixed digits\n",
    "n = int(input('Enter no of rows:'))\n",
    "for i in range (n):\n",
    "       print((str(n)+' ')*n)"
   ]
  },
  {
   "cell_type": "code",
   "execution_count": 17,
   "metadata": {},
   "outputs": [
    {
     "name": "stdout",
     "output_type": "stream",
     "text": [
      "Enter no of rows:4\n",
      "1 1 1 1 \n",
      "2 2 2 2 \n",
      "3 3 3 3 \n",
      "4 4 4 4 \n"
     ]
    }
   ],
   "source": [
    "# To print square pattern with provided fixed digits in every row\n",
    "n = int(input('Enter no of rows:'))\n",
    "for i in range (n):\n",
    "    print((str(i+1)+' ')*n)"
   ]
  },
  {
   "cell_type": "code",
   "execution_count": 18,
   "metadata": {},
   "outputs": [
    {
     "name": "stdout",
     "output_type": "stream",
     "text": [
      "Enter no of rows:3\n",
      "A A A \n",
      "A A A \n",
      "A A A \n"
     ]
    }
   ],
   "source": [
    "# To print square pattern with fixed Alphabet symbol\n",
    "n = int(input('Enter no of rows:'))\n",
    "for i in range(n):\n",
    "    print('A '*n)"
   ]
  },
  {
   "cell_type": "code",
   "execution_count": 19,
   "metadata": {},
   "outputs": [
    {
     "name": "stdout",
     "output_type": "stream",
     "text": [
      "Enter no of rows:4\n",
      "A \n",
      "B B \n",
      "C C C \n",
      "D D D D \n"
     ]
    }
   ],
   "source": [
    "# To print right angle triangle pattern with fixed Alphabet symbol in every row\n",
    "n = int(input('Enter no of rows:'))\n",
    "for i in range(n):\n",
    "    print((chr(65+i)+' ')*(i+1))"
   ]
  },
  {
   "cell_type": "code",
   "execution_count": 24,
   "metadata": {},
   "outputs": [
    {
     "name": "stdout",
     "output_type": "stream",
     "text": [
      "Enter no of rows:4\n",
      "* * * * \n",
      "* * * \n",
      "* * \n",
      "* \n"
     ]
    }
   ],
   "source": [
    "#To print inverted right angle pattern with * symbols\n",
    "n = int(input('Enter no of rows:'))\n",
    "for i in range(n):\n",
    "    print('* '*(n-i))"
   ]
  },
  {
   "cell_type": "code",
   "execution_count": 25,
   "metadata": {},
   "outputs": [
    {
     "name": "stdout",
     "output_type": "stream",
     "text": [
      "Enter no of rows:4\n",
      "1 2 3 4 \n",
      "1 2 3 \n",
      "1 2 \n",
      "1 \n"
     ]
    }
   ],
   "source": [
    "#To print inverted right angle pattern with digits in ascending order in every row\n",
    "n = int(input('Enter no of rows:'))\n",
    "for i in range(n):\n",
    "    for j in range (n-i):\n",
    "        print(j+1,end=' ')\n",
    "    print()"
   ]
  },
  {
   "cell_type": "code",
   "execution_count": 26,
   "metadata": {},
   "outputs": [
    {
     "name": "stdout",
     "output_type": "stream",
     "text": [
      "Enter no of Rows:4\n",
      "   1 \n",
      "  2 2 \n",
      " 3 3 3 \n",
      "4 4 4 4 \n"
     ]
    }
   ],
   "source": [
    "#To print pyramid pattern with fixed digits in every row\n",
    "n = int(input('Enter no of Rows:'))\n",
    "for i in range(n):\n",
    "    print(' '*(n-i-1)+(str(i+1)+' ')*(i+1))"
   ]
  },
  {
   "cell_type": "code",
   "execution_count": 36,
   "metadata": {},
   "outputs": [
    {
     "name": "stdout",
     "output_type": "stream",
     "text": [
      "Enter no of rows:5\n",
      "    E \n",
      "   E D \n",
      "  E D C \n",
      " E D C B \n",
      "E D C B A \n"
     ]
    }
   ],
   "source": [
    "#To print pyramid pattern with alphabet symbols in reverse of dictionary order in every row\n",
    "n = int(input('Enter no of rows:'))\n",
    "for i in range(n):\n",
    "    print(' '*(n-i-1),end='')\n",
    "    for j in range(i+1):\n",
    "        print(chr(64+n-j),end=' ')\n",
    "    print()"
   ]
  },
  {
   "cell_type": "code",
   "execution_count": 40,
   "metadata": {},
   "outputs": [
    {
     "name": "stdout",
     "output_type": "stream",
     "text": [
      "Enter no of rows:4\n",
      "A \n",
      "A B \n",
      "A B C \n",
      "A B C D \n",
      "A B C \n",
      "A B \n",
      "A \n"
     ]
    }
   ],
   "source": [
    "#To print Right hald diamond pattern with alphabet symbols in dictionary order in every row\n",
    "n = int(input('Enter no of rows:'))\n",
    "for i in range(n): # No of rows\n",
    "    for j in range (i+1): # No of symbols\n",
    "        print(chr(65+j),end=' ')\n",
    "    print()\n",
    "for i in range(n-1):\n",
    "    for j in range(n-i-1):\n",
    "        print(chr(65+j),end=' ')\n",
    "    print()"
   ]
  },
  {
   "cell_type": "code",
   "execution_count": 42,
   "metadata": {},
   "outputs": [
    {
     "name": "stdout",
     "output_type": "stream",
     "text": [
      "Enter no of rows:4\n",
      " A B C D \n",
      "  A B C \n",
      "   A B \n",
      "    A \n"
     ]
    }
   ],
   "source": [
    "#To print inverted pyramid pattern with alphabet symbols in dictionary order in every row\n",
    "n = int(input('Enter no of rows:'))\n",
    "for i in range (n):\n",
    "    print(' '*i,end=' ')\n",
    "    for j in range (n-i):\n",
    "        print(chr(65+j),end=' ')\n",
    "    print()"
   ]
  },
  {
   "cell_type": "code",
   "execution_count": 44,
   "metadata": {},
   "outputs": [
    {
     "name": "stdout",
     "output_type": "stream",
     "text": [
      "Enter n value:4\n",
      "   * \n",
      "  * * \n",
      " * * * \n",
      "* * * * \n",
      " * * * \n",
      "  * * \n",
      "   * \n"
     ]
    }
   ],
   "source": [
    "#To print diamond pattern with symbols\n",
    "n = int(input('Enter n value:'))\n",
    "for i in range(n):\n",
    "    print(' '*(n-i-1)+'* '*(i+1))\n",
    "for i in range (n-1):\n",
    "        print(' '*(i+1)+'* '*(n-i-1))"
   ]
  },
  {
   "cell_type": "code",
   "execution_count": 46,
   "metadata": {},
   "outputs": [
    {
     "name": "stdout",
     "output_type": "stream",
     "text": [
      "Enter n Value:4\n",
      "* \n",
      "* * \n",
      "* * * \n",
      "* * * * \n",
      "* * * \n",
      "* * \n",
      "* \n"
     ]
    }
   ],
   "source": [
    "#To print right half diamond pattern with symbols\n",
    "n = int(input('Enter n Value:'))\n",
    "for i in range(n):\n",
    "    print('* '*(i+1))\n",
    "for i in range(n-1):\n",
    "    print('* '*(n-i-1))"
   ]
  },
  {
   "cell_type": "code",
   "execution_count": 49,
   "metadata": {},
   "outputs": [
    {
     "name": "stdout",
     "output_type": "stream",
     "text": [
      "Enter n values:4\n",
      "      * \n",
      "    * * \n",
      "  * * * \n",
      "* * * * \n",
      "  * * * \n",
      "    * * \n",
      "      * \n"
     ]
    }
   ],
   "source": [
    "#To print left half diamond pattern with symbols\n",
    "n = int(input('Enter n values:'))\n",
    "for i in range(n):\n",
    "    print('  '*(n-i-1)+'* '*(i+1))\n",
    "for i in range(n-1):\n",
    "    print('  '*(i+1)+'* '*(n-i-1))"
   ]
  },
  {
   "cell_type": "code",
   "execution_count": 52,
   "metadata": {},
   "outputs": [
    {
     "name": "stdout",
     "output_type": "stream",
     "text": [
      "Enter n Value:4\n",
      "      * \n",
      "    *   *\n",
      "  *       *\n",
      "*           *\n"
     ]
    }
   ],
   "source": [
    "#To print top half hollow diamond pattern with * symbols\n",
    "n = int(input('Enter n Value:'))\n",
    "for i in range(n):\n",
    "    print('  '*(n-i-1)+'* ',end='')\n",
    "    if i>=1:\n",
    "        print('  '*(2*i-1)+'*',end='')\n",
    "    print()"
   ]
  },
  {
   "cell_type": "code",
   "execution_count": 58,
   "metadata": {},
   "outputs": [
    {
     "name": "stdout",
     "output_type": "stream",
     "text": [
      "Enter n Value: 10\n",
      "*                                   *\n",
      "  *                               *\n",
      "    *                           *\n",
      "      *                       *\n",
      "        *                   *\n",
      "          *               *\n",
      "            *           *\n",
      "              *       *\n",
      "                *   *\n",
      "                  * \n"
     ]
    }
   ],
   "source": [
    "#To print bottom half hollow diamond pattern with * symbols\n",
    "n = int(input('Enter n Value: '))\n",
    "for i in range(n):\n",
    "    print('  '*i+'* ',end='')\n",
    "    if i !=(n-1):\n",
    "        print('  '*(2*n-2*i-3)+'*',end='')\n",
    "    print()"
   ]
  },
  {
   "cell_type": "code",
   "execution_count": 76,
   "metadata": {},
   "outputs": [
    {
     "name": "stdout",
     "output_type": "stream",
     "text": [
      "Enter n value:5\n",
      "A               A\n",
      "  B           B\n",
      "    C       C\n",
      "      D   D\n",
      "        E \n"
     ]
    }
   ],
   "source": [
    "#To print bottom half hollow diamond pattern with ALPHABET symbols\n",
    "n = int(input('Enter n value:'))\n",
    "for i in range(n):\n",
    "    print('  '*i+chr(65+i)+' ',end='')\n",
    "    if i!=(n-1):\n",
    "        print('  '*(2*n-2*i-3)+chr(65+i),end='')\n",
    "    print()"
   ]
  },
  {
   "cell_type": "code",
   "execution_count": 82,
   "metadata": {},
   "outputs": [
    {
     "name": "stdout",
     "output_type": "stream",
     "text": [
      "Enter n Values:4\n",
      "      1 \n",
      "    1 2 \n",
      "  1 2 3 \n",
      "1 2 3 4 \n",
      "  1 2 3 \n",
      "    1 2 \n",
      "      1 \n"
     ]
    }
   ],
   "source": [
    "#To print left half diamond pattern with digits symbols\n",
    "n = int(input('Enter n Values:'))\n",
    "for i in range(n):\n",
    "    print('  '*(n-i-1),end='')\n",
    "    for j in range(i+1):\n",
    "        print(j+1,end=' ')\n",
    "    print()\n",
    "for i in range(n-1):\n",
    "    print('  '*(i+1),end='')\n",
    "    for j in range(n-i-1):\n",
    "        print(j+1,end=' ')\n",
    "    print()"
   ]
  },
  {
   "cell_type": "code",
   "execution_count": null,
   "metadata": {},
   "outputs": [],
   "source": []
  }
 ],
 "metadata": {
  "kernelspec": {
   "display_name": "Python 3",
   "language": "python",
   "name": "python3"
  },
  "language_info": {
   "codemirror_mode": {
    "name": "ipython",
    "version": 3
   },
   "file_extension": ".py",
   "mimetype": "text/x-python",
   "name": "python",
   "nbconvert_exporter": "python",
   "pygments_lexer": "ipython3",
   "version": "3.8.3"
  }
 },
 "nbformat": 4,
 "nbformat_minor": 4
}
