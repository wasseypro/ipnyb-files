{
 "cells": [
  {
   "cell_type": "code",
   "execution_count": 1,
   "metadata": {},
   "outputs": [],
   "source": [
    "import sys"
   ]
  },
  {
   "cell_type": "code",
   "execution_count": 25,
   "metadata": {},
   "outputs": [
    {
     "name": "stdout",
     "output_type": "stream",
     "text": [
      "Welcome to: Abdul Bank\n",
      "Enter your Name:Samad\n",
      "d-Deposit\n",
      "w-withdraw\n",
      "e-exit\n",
      "Coose your option:d\n",
      "Enter Deposit amt:1200\n",
      "Balance after deposit: 1200.0\n",
      "d-Deposit\n",
      "w-withdraw\n",
      "e-exit\n",
      "Coose your option:w\n",
      "Enter withdrawal amt:750\n",
      "Balance after Withdraw: 450.0\n",
      "d-Deposit\n",
      "w-withdraw\n",
      "e-exit\n",
      "Coose your option:d\n",
      "Enter Deposit amt:550\n",
      "Balance after deposit: 1000.0\n",
      "d-Deposit\n",
      "w-withdraw\n",
      "e-exit\n",
      "Coose your option:w\n",
      "Enter withdrawal amt:1200\n",
      "Insufficient Balance\n"
     ]
    },
    {
     "ename": "SystemExit",
     "evalue": "",
     "output_type": "error",
     "traceback": [
      "An exception has occurred, use %tb to see the full traceback.\n",
      "\u001b[1;31mSystemExit\u001b[0m\n"
     ]
    }
   ],
   "source": [
    "class Customer:\n",
    "    '''Customer class with bank related operations'''\n",
    "    bankname = 'Abdul Bank'\n",
    "    \n",
    "    def __init__(self,name,balance=0.0):\n",
    "        self.name=name\n",
    "        self.balance=balance\n",
    "        \n",
    "    def deposit(self,amt):\n",
    "        self.balance=self.balance+amt\n",
    "        print('Balance after deposit:',self.balance)\n",
    "        \n",
    "    def withdraw(self,amt):\n",
    "        if amt>self.balance:\n",
    "            print('Insufficient Balance')\n",
    "            sys.exit() # To stop operation\n",
    "        self.balance = self.balance-amt\n",
    "        print('Balance after Withdraw:',self.balance)\n",
    "print('Welcome to:', Customer.bankname)\n",
    "name=input('Enter your Name:')\n",
    "c=Customer(name)\n",
    "while True:\n",
    "    print('d-Deposit\\nw-withdraw\\ne-exit')\n",
    "    option=input('Coose your option:')\n",
    "    if option =='d' or option =='D':\n",
    "        amt=float(input('Enter Deposit amt:'))\n",
    "        c.deposit(amt)\n",
    "            \n",
    "    elif option=='w'or option =='W':\n",
    "        amt=float(input('Enter withdrawal amt:'))\n",
    "        c.withdraw(amt)\n",
    "            \n",
    "    elif option == 'e'or option =='E':\n",
    "        print('Thanks for using services')\n",
    "        sys.exit()\n",
    "            \n",
    "    else:\n",
    "        print('Choose Valid Option')"
   ]
  },
  {
   "cell_type": "code",
   "execution_count": null,
   "metadata": {},
   "outputs": [],
   "source": []
  }
 ],
 "metadata": {
  "kernelspec": {
   "display_name": "Python 3",
   "language": "python",
   "name": "python3"
  },
  "language_info": {
   "codemirror_mode": {
    "name": "ipython",
    "version": 3
   },
   "file_extension": ".py",
   "mimetype": "text/x-python",
   "name": "python",
   "nbconvert_exporter": "python",
   "pygments_lexer": "ipython3",
   "version": "3.8.3"
  }
 },
 "nbformat": 4,
 "nbformat_minor": 4
}
